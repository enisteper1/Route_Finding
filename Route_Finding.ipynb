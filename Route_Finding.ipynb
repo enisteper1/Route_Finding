{
 "cells": [
  {
   "cell_type": "markdown",
   "id": "fa335918",
   "metadata": {},
   "source": [
    "## Importing Libraries"
   ]
  },
  {
   "cell_type": "code",
   "execution_count": 1,
   "id": "a7f2176a",
   "metadata": {},
   "outputs": [],
   "source": [
    "import pandas as pd\n",
    "import numpy as np\n",
    "import networkx as nx\n",
    "from pyvis.network import Network\n",
    "import matplotlib.pyplot as plt\n",
    "import os\n",
    "import math"
   ]
  },
  {
   "cell_type": "markdown",
   "id": "87e0d4ce",
   "metadata": {},
   "source": [
    "## Graph Visualization"
   ]
  },
  {
   "cell_type": "code",
   "execution_count": 2,
   "id": "bd46227b",
   "metadata": {
    "scrolled": true
   },
   "outputs": [
    {
     "data": {
      "text/html": [
       "<div>\n",
       "<style scoped>\n",
       "    .dataframe tbody tr th:only-of-type {\n",
       "        vertical-align: middle;\n",
       "    }\n",
       "\n",
       "    .dataframe tbody tr th {\n",
       "        vertical-align: top;\n",
       "    }\n",
       "\n",
       "    .dataframe thead th {\n",
       "        text-align: right;\n",
       "    }\n",
       "</style>\n",
       "<table border=\"1\" class=\"dataframe\">\n",
       "  <thead>\n",
       "    <tr style=\"text-align: right;\">\n",
       "      <th></th>\n",
       "      <th>Departure_City</th>\n",
       "      <th>Destination_City</th>\n",
       "      <th>Distance</th>\n",
       "    </tr>\n",
       "  </thead>\n",
       "  <tbody>\n",
       "    <tr>\n",
       "      <th>0</th>\n",
       "      <td>Istanbul</td>\n",
       "      <td>Izmit</td>\n",
       "      <td>103</td>\n",
       "    </tr>\n",
       "    <tr>\n",
       "      <th>1</th>\n",
       "      <td>Izmit</td>\n",
       "      <td>Adapazari</td>\n",
       "      <td>53</td>\n",
       "    </tr>\n",
       "    <tr>\n",
       "      <th>2</th>\n",
       "      <td>Adapazari</td>\n",
       "      <td>Bolu</td>\n",
       "      <td>125</td>\n",
       "    </tr>\n",
       "    <tr>\n",
       "      <th>3</th>\n",
       "      <td>Bolu</td>\n",
       "      <td>Ankara</td>\n",
       "      <td>187</td>\n",
       "    </tr>\n",
       "    <tr>\n",
       "      <th>4</th>\n",
       "      <td>Ankara</td>\n",
       "      <td>Kirikkale</td>\n",
       "      <td>73</td>\n",
       "    </tr>\n",
       "  </tbody>\n",
       "</table>\n",
       "</div>"
      ],
      "text/plain": [
       "  Departure_City Destination_City  Distance\n",
       "0       Istanbul            Izmit       103\n",
       "1          Izmit        Adapazari        53\n",
       "2      Adapazari             Bolu       125\n",
       "3           Bolu           Ankara       187\n",
       "4         Ankara        Kirikkale        73"
      ]
     },
     "execution_count": 2,
     "metadata": {},
     "output_type": "execute_result"
    }
   ],
   "source": [
    "df_dist = pd.read_csv(\"distances.csv\", header=None)\n",
    "df_dist.columns=[\"Departure_City\", \"Destination_City\", \"Distance\"]\n",
    "df_dist[\"Departure_City\"] = df_dist.Departure_City.apply(lambda x: \"Adapazari\" if x == \"Sakarya\" else x)\n",
    "df_dist[\"Destination_City\"] = df_dist.Destination_City.apply(lambda x: \"Adapazari\" if x == \"Sakarya\" else x)\n",
    "df_dist.head()"
   ]
  },
  {
   "cell_type": "code",
   "execution_count": 3,
   "id": "5431c109",
   "metadata": {},
   "outputs": [],
   "source": [
    "Cities_Graph = nx.from_pandas_edgelist(df_dist,\n",
    "                           source=\"Departure_City\",\n",
    "                           target=\"Destination_City\",\n",
    "                           edge_attr=True)"
   ]
  },
  {
   "cell_type": "code",
   "execution_count": 4,
   "id": "3d52fad9",
   "metadata": {
    "scrolled": false
   },
   "outputs": [
    {
     "data": {
      "text/html": [
       "\n",
       "        <iframe\n",
       "            width=\"500px\"\n",
       "            height=\"500px\"\n",
       "            src=\"graph.html\"\n",
       "            frameborder=\"0\"\n",
       "            allowfullscreen\n",
       "            \n",
       "        ></iframe>\n",
       "        "
      ],
      "text/plain": [
       "<IPython.lib.display.IFrame at 0x1ae5945a5e0>"
      ]
     },
     "execution_count": 4,
     "metadata": {},
     "output_type": "execute_result"
    }
   ],
   "source": [
    "net = Network(notebook=True)\n",
    "net.from_nx(Cities_Graph)\n",
    "net.show(\"graph.html\")"
   ]
  },
  {
   "cell_type": "markdown",
   "id": "9c070323",
   "metadata": {},
   "source": [
    "## Route Finding Algorithm"
   ]
  },
  {
   "cell_type": "code",
   "execution_count": 5,
   "id": "74b3b529",
   "metadata": {},
   "outputs": [],
   "source": [
    "def calculateRoute(start_end_city:list, distances_file:str=\"distances.csv\"):\n",
    "    #Check if the file exists\n",
    "    assert os.path.isfile(distances_file), \"Distances file does not exists. Your input is: \" + str(distances_file)\n",
    "    \n",
    "    # Check if the input list has starting and destination cities.\n",
    "    assert len(start_end_city) == 2, \"Input city length must be equal to 2. Your input is: \"+ str(start_end_city)\n",
    "    \n",
    "    # Assign cities\n",
    "    starting_city = start_end_city[0]\n",
    "    destination_city = start_end_city[1]\n",
    "    \n",
    "    # Check types of inputs\n",
    "    assert type(starting_city) == str, \"Starting city must be a string.You entered: \" + str(type(starting_city))\n",
    "    assert type(destination_city) == str, \"Destination city must be a string. You entered: \" + str(type(destination_city))\n",
    "    \n",
    "    # Check if input cities are same\n",
    "    assert starting_city != destination_city, \"Starting and destination city cannot be equal.\"\n",
    "    \n",
    "    # Load distance.csv\n",
    "    df_dist = pd.read_csv(distances_file, header=None)\n",
    "    df_dist.columns=[\"Departure_City\", \"Destination_City\", \"Distance\"]\n",
    "    \n",
    "    # Generate total map to move backard and forward between nodes\n",
    "    df_dist_reverse = df_dist[[\"Destination_City\", \"Departure_City\", \"Distance\"]]\n",
    "    df_dist_reverse.columns = [\"Departure_City\", \"Destination_City\", \"Distance\"]\n",
    "    df_total_dist = pd.concat([df_dist_reverse, df_dist], axis=0)\n",
    "    \n",
    "    # Convert Sakarya to Adapazari since they represent same city\n",
    "    df_total_dist[\"Departure_City\"] = df_total_dist.Departure_City.apply(lambda x: \"Adapazari\" if x == \"Sakarya\" else x)\n",
    "    df_total_dist[\"Destination_City\"] = df_total_dist.Destination_City.apply(lambda x: \"Adapazari\" if x == \"Sakarya\" else x)\n",
    "    \n",
    "    # unload unnecessary dataframes\n",
    "    del df_dist_reverse\n",
    "    del df_dist\n",
    "    \n",
    "    # Creating city list\n",
    "    city_list = list(dict.fromkeys(list(set(df_total_dist[\"Departure_City\"]))))\n",
    "    \n",
    "    # Check if input cities are given properly.\n",
    "    assert starting_city in city_list, \"Starting city is not in cities. It must be one of the \" + str(city_list)\n",
    "    assert destination_city in city_list, \"Starting city is not in cities. It must be one of the \" + str(city_list)\n",
    "    \n",
    "    \n",
    "    # Generating dictionary to keep all coonections of each node with their distances.\n",
    "    City_Tree = dict.fromkeys(list(set(df_total_dist[\"Departure_City\"])))\n",
    "    for ea_city in City_Tree:\n",
    "        connected_cities = df_total_dist[df_total_dist.Departure_City == ea_city][\"Destination_City\"].to_numpy()\n",
    "        city_distances = df_total_dist[df_total_dist.Departure_City == ea_city][\"Distance\"].to_numpy()\n",
    "\n",
    "        City_Tree[ea_city] = {}\n",
    "        for i,ea_connection in enumerate(connected_cities):\n",
    "            City_Tree[ea_city][ea_connection] = city_distances[i]\n",
    "    # Route        \n",
    "    route = []       \n",
    "    shortest_route = {}\n",
    "    former_nodes = {}\n",
    "    \n",
    "    \n",
    "    # Assign infinity to unvisited cities\n",
    "    for node in City_Tree:\n",
    "        shortest_route[node] = math.inf\n",
    "    shortest_route[starting_city] = 0\n",
    "    \n",
    "    # Find shortest path by iterating connected nodes\n",
    "    while City_Tree:\n",
    "        shortest_node = None\n",
    "        \n",
    "        for node in City_Tree:\n",
    "            if shortest_node is None:\n",
    "                shortest_node = node\n",
    "            elif shortest_route[node] < shortest_route[shortest_node]:\n",
    "                shortest_node = node\n",
    "                \n",
    "        # Iterate every node and their chields   \n",
    "        for child_node, distance in City_Tree[shortest_node].items():\n",
    "            if distance + shortest_route[shortest_node] < shortest_route[child_node]:\n",
    "                shortest_route[child_node] = distance + shortest_route[shortest_node]\n",
    "                former_nodes[child_node] = shortest_node\n",
    "        \n",
    "        # Since the node is visited it is removed.\n",
    "        City_Tree.pop(shortest_node)\n",
    "    \n",
    "    # Assign destination_city to current_node to move from the end to beginning\n",
    "    current_node = destination_city\n",
    "    \n",
    "    # Move beginning from destination city\n",
    "    while current_node != starting_city:\n",
    "        route.insert(0, current_node)\n",
    "        current_node = former_nodes[current_node]\n",
    "    \n",
    "    # Insert starting city to beginning\n",
    "    route.insert(0, starting_city)\n",
    "    \n",
    "    # Print output\n",
    "    print(f\"{'-'.join(route)}, {shortest_route[destination_city]}\")"
   ]
  },
  {
   "cell_type": "code",
   "execution_count": 6,
   "id": "54526e77",
   "metadata": {},
   "outputs": [
    {
     "name": "stdout",
     "output_type": "stream",
     "text": [
      "Istanbul-Izmit-Adapazari-Bolu-Ankara, 468\n"
     ]
    }
   ],
   "source": [
    "calculateRoute([\"Istanbul\", \"Ankara\"], \"distances.csv\" )"
   ]
  }
 ],
 "metadata": {
  "kernelspec": {
   "display_name": "Python 3 (ipykernel)",
   "language": "python",
   "name": "python3"
  },
  "language_info": {
   "codemirror_mode": {
    "name": "ipython",
    "version": 3
   },
   "file_extension": ".py",
   "mimetype": "text/x-python",
   "name": "python",
   "nbconvert_exporter": "python",
   "pygments_lexer": "ipython3",
   "version": "3.8.8"
  }
 },
 "nbformat": 4,
 "nbformat_minor": 5
}
